{
 "cells": [
  {
   "cell_type": "code",
   "execution_count": null,
   "id": "b74cb433-b588-404c-8fdc-5eb771c2fe8a",
   "metadata": {},
   "outputs": [],
   "source": [
    "import os\n",
    "import streamlit as st\n",
    "import datetime\n",
    "import pandas as pd\n",
    "import numpy as np\n",
    "import seaborn as sns\n",
    "import matplotlib.pyplot as plt\n",
    "import joblib"
   ]
  },
  {
   "cell_type": "code",
   "execution_count": null,
   "id": "cd0a12fc-0029-4c50-addd-9de97045acde",
   "metadata": {},
   "outputs": [],
   "source": [
    "os.chdir('..')"
   ]
  },
  {
   "cell_type": "code",
   "execution_count": null,
   "id": "0e7ab827-fd7a-4757-9350-e44652107bb2",
   "metadata": {},
   "outputs": [],
   "source": [
    "import src.db as db\n",
    "import src.LP_ortools_func as lp_tools\n",
    "import src.utils as utils"
   ]
  },
  {
   "cell_type": "code",
   "execution_count": null,
   "id": "2d7d2701-46c2-43f6-b76f-43bd3a0f6694",
   "metadata": {},
   "outputs": [],
   "source": [
    "%matplotlib inline"
   ]
  },
  {
   "cell_type": "code",
   "execution_count": null,
   "id": "c6329fba-38bf-4aad-b86d-ad7f038c7996",
   "metadata": {},
   "outputs": [],
   "source": [
    "# results = lp_tools.run_lp('notebook_test')\n",
    "# joblib.dump(results, 'results.joblib')"
   ]
  },
  {
   "cell_type": "code",
   "execution_count": null,
   "id": "f6a05be9-5b72-4b66-8e72-3c737841aaf8",
   "metadata": {},
   "outputs": [],
   "source": [
    "results = joblib.load('results.joblib')"
   ]
  },
  {
   "cell_type": "code",
   "execution_count": null,
   "id": "28eb129c-6219-4d11-ae1c-5591f869da43",
   "metadata": {},
   "outputs": [],
   "source": [
    "start_date = datetime.date(2030, 7, 1)\n",
    "num_days = 10\n",
    "utils.plot_hourly(results['final_df'], start_date, num_days)\n",
    "plt.show()"
   ]
  },
  {
   "cell_type": "code",
   "execution_count": null,
   "id": "62587651-c6fb-41c3-b6f7-012f98eac7cc",
   "metadata": {},
   "outputs": [],
   "source": [
    "results['final_df'].head()"
   ]
  },
  {
   "cell_type": "code",
   "execution_count": null,
   "id": "02b51bc4-7562-4b0c-a879-38ffb46cabfd",
   "metadata": {},
   "outputs": [],
   "source": [
    "results['final_df'].info()"
   ]
  },
  {
   "cell_type": "code",
   "execution_count": null,
   "id": "c10379c7-3090-45b6-a0ad-c97f1b4ec6d3",
   "metadata": {},
   "outputs": [],
   "source": [
    "fig = utils.get_resource_stack_plot(results['final_df'])\n",
    "fig.show()"
   ]
  },
  {
   "cell_type": "code",
   "execution_count": null,
   "id": "568d0fe7-bd09-486d-932a-32c4bcc25b4b",
   "metadata": {},
   "outputs": [],
   "source": []
  },
  {
   "cell_type": "code",
   "execution_count": null,
   "id": "0d556ea0-5598-4efe-951f-d5ced0ea44c8",
   "metadata": {},
   "outputs": [],
   "source": []
  }
 ],
 "metadata": {
  "kernelspec": {
   "display_name": "elec_planning",
   "language": "python",
   "name": "elec_planning"
  },
  "language_info": {
   "codemirror_mode": {
    "name": "ipython",
    "version": 3
   },
   "file_extension": ".py",
   "mimetype": "text/x-python",
   "name": "python",
   "nbconvert_exporter": "python",
   "pygments_lexer": "ipython3",
   "version": "3.11.9"
  }
 },
 "nbformat": 4,
 "nbformat_minor": 5
}
